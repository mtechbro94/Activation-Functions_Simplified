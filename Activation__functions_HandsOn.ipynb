{
  "nbformat": 4,
  "nbformat_minor": 0,
  "metadata": {
    "colab": {
      "provenance": []
    },
    "kernelspec": {
      "name": "python3",
      "display_name": "Python 3"
    },
    "language_info": {
      "name": "python"
    }
  },
  "cells": [
    {
      "cell_type": "markdown",
      "source": [
        "# Activation Functions in Neural Networks\n",
        "<img src = \"https://www.datajango.com/wp-content/uploads/2019/06/activation_fun-e1560521312732.jpg\">\n",
        "\n",
        "\n",
        "## **1. Role of Activation Functions**\n",
        "- Activation functions decide whether a neuron should be activated or not by mapping the input to an output.\n",
        "- They allow neural networks to model complex data patterns and relationships by introducing **non-linear transformations**.\n",
        "\n",
        "---\n",
        "\n",
        "## **2. Properties of Activation Functions**\n",
        "- **Differentiability**: For backpropagation, the activation function must be differentiable.\n",
        "- **Range of Output**: Different activation functions have different output ranges (e.g., `[0,1]`, `[-1,1]`).\n",
        "- **Computational Efficiency**: Activation functions should be computationally efficient for faster training.\n",
        "- **Non Linearity**: Functions should be non Linear in Nature\n",
        "- **Zero Centered**: It should be normalized or zero centered\n",
        "- **Non-Saturating**: functions which doesnot squeeze to fixed range\n",
        "---\n",
        "<img src = \"https://www.researchgate.net/publication/350567223/figure/fig3/AS:1007855343767554@1617302847631/Fig-3-The-basic-activation-functions-of-the-neural-networksNeural-Networks.jpg\">\n",
        "---\n",
        "\n",
        "---\n",
        "\n",
        "## **3. Types of Activation Functions**\n",
        "\n",
        "### **Linear Activation Function**\n",
        "- **Equation**: \\( f(x) = x \\)\n",
        "- **Pros**: Simple and interpretable.\n",
        "- **Cons**: Cannot model non-linear relationships.\n",
        "\n",
        "\n",
        "---\n",
        "\n",
        "### **Sigmoid Function**\n",
        "- **Equation**: \\( f(x) = \\frac{1}{1 + e^{-x}} \\)\n",
        "- **Range**: \\( (0, 1) \\)\n",
        "- **Pros**: Useful for probability predictions.\n",
        "- **Cons**: Vanishing gradient problem for large/small inputs.\n",
        "   * Saturated function\n",
        "   * vanishing Gradient problem\n",
        "   * Only used for Output Layer in Binary Classification\n",
        "   * Non Zero Centered - (slow training)\n",
        "---\n",
        "\n",
        "### **Hyperbolic Tangent (Tanh)**\n",
        "- **Equation**: \\( f(x) = \\tanh(x) = \\frac{e^x - e^{-x}}{e^x + e^{-x}} \\)\n",
        "- **Range**: \\( (-1, 1) \\)\n",
        "- **Pros**:\n",
        "   * Outputs are centered around 0. ie faster training\n",
        "   * Non linear and Differentiable\n",
        "*\n",
        "\n",
        "- **Cons**: Suffers from vanishing gradient problems.\n",
        "   * Saturating function - Squashing to fixed range\n",
        "   * prone to vanishing Gradient problem\n",
        "   * computationally expensive\n",
        "\n",
        "---\n",
        "\n",
        "### **Rectified Linear Unit (ReLU)**\n",
        "- **Equation**: \\( f(x) = \\max(0, x) \\)\n",
        "- **Range**: \\( [0, \\infty) \\)\n",
        "- **Pros**:\n",
        "   * Computationally efficient, helps prevent vanishing gradients.\n",
        "   * Non Linear\n",
        "   * Not Saturated in the positive region\n",
        "   * It is Computationally inexpensive\n",
        "   * Conversion is faster than sigmoid and tanh\n",
        "   * Best for Hidden layers\n",
        "- **Cons**:\n",
        "   * \"Dying ReLU\" problem when many neurons output zero.\n",
        "   * High learning rate\n",
        "   * High Negative Bias\n",
        "   * Not Differentiable at Zero\n",
        "   * Not Zero Centered(we use batch normalizationto handle this)\n",
        "\n",
        "---\n",
        "\n",
        "### **Leaky ReLU**\n",
        "- **Equation**: \\( f(x) = x \\text{ if } x > 0 \\text{ else } \\alpha x \\), where \\( \\alpha \\) is a small constant.\n",
        "- **Pros**: Solves the \"Dying ReLU\" problem.\n",
        "- **Cons**: Introduces a hyperparameter.\n",
        "\n",
        "---\n",
        "\n",
        "### **Softmax**\n",
        "- **Equation**: \\( f(x)_i = \\frac{e^{x_i}}{\\sum_j e^{x_j}} \\)\n",
        "- **Range**: \\( (0, 1) \\), and the outputs sum to 1.\n",
        "- **Pros**: Used in multi-class classification problems.\n"
      ],
      "metadata": {
        "id": "LsxUSghGh3qf"
      }
    },
    {
      "cell_type": "markdown",
      "source": [
        "# **HandsOn Implementation of Activation Functions in Deep Learning**"
      ],
      "metadata": {
        "id": "-gE6VRnmmCl5"
      }
    },
    {
      "cell_type": "code",
      "source": [
        "# Import required libraries\n",
        "from sklearn.datasets import make_moons\n",
        "from sklearn.model_selection import train_test_split\n",
        "from sklearn.preprocessing import StandardScaler\n",
        "from tensorflow.keras.models import Sequential\n",
        "from tensorflow.keras.layers import Dense\n",
        "from tensorflow.keras.optimizers import Adam\n",
        "import matplotlib.pyplot as plt"
      ],
      "metadata": {
        "id": "VNks2ZDZh_hf"
      },
      "execution_count": 13,
      "outputs": []
    },
    {
      "cell_type": "code",
      "source": [
        "# Create dataset\n",
        "X, y = make_moons(n_samples=1000, noise=0.2, random_state=42)\n",
        "X_train, X_test, y_train, y_test = train_test_split(X, y, test_size=0.2, random_state=42)\n"
      ],
      "metadata": {
        "id": "1ZwcvLKbnz9t"
      },
      "execution_count": 14,
      "outputs": []
    },
    {
      "cell_type": "code",
      "source": [
        "# Standardize data\n",
        "scaler = StandardScaler()\n",
        "X_train = scaler.fit_transform(X_train)\n",
        "X_test = scaler.transform(X_test)\n"
      ],
      "metadata": {
        "id": "1ss8ifS3oCOU"
      },
      "execution_count": 15,
      "outputs": []
    },
    {
      "cell_type": "code",
      "source": [
        "# Build the model\n",
        "model = Sequential([\n",
        "    Dense(16, activation='relu', input_shape=(2,)),\n",
        "    Dense(16, activation='relu'),\n",
        "    Dense(1, activation='sigmoid')  # Sigmoid for binary classification\n",
        "])\n"
      ],
      "metadata": {
        "colab": {
          "base_uri": "https://localhost:8080/"
        },
        "id": "SBnlCJbWoFTQ",
        "outputId": "b63c3c60-d320-461d-8d01-adc514019a78"
      },
      "execution_count": 16,
      "outputs": [
        {
          "output_type": "stream",
          "name": "stderr",
          "text": [
            "/usr/local/lib/python3.10/dist-packages/keras/src/layers/core/dense.py:87: UserWarning: Do not pass an `input_shape`/`input_dim` argument to a layer. When using Sequential models, prefer using an `Input(shape)` object as the first layer in the model instead.\n",
            "  super().__init__(activity_regularizer=activity_regularizer, **kwargs)\n"
          ]
        }
      ]
    },
    {
      "cell_type": "code",
      "source": [
        "# Compile the model\n",
        "model.compile(optimizer='adam', loss='binary_crossentropy', metrics=['accuracy'])\n"
      ],
      "metadata": {
        "id": "XzIepeV8oNXC"
      },
      "execution_count": 17,
      "outputs": []
    },
    {
      "cell_type": "code",
      "source": [
        "# Train the model\n",
        "history = model.fit(X_train, y_train, epochs=50, batch_size=32, validation_split=0.2, verbose=0)"
      ],
      "metadata": {
        "id": "zKRklsV7ogd0"
      },
      "execution_count": 18,
      "outputs": []
    },
    {
      "cell_type": "code",
      "source": [
        "# Evaluate the model\n",
        "loss, accuracy = model.evaluate(X_test, y_test, verbose=0)\n",
        "print(f\"Test Accuracy: {accuracy:.2f}\")"
      ],
      "metadata": {
        "colab": {
          "base_uri": "https://localhost:8080/"
        },
        "id": "RZPfiO8zokL_",
        "outputId": "3d2a6e6d-7e37-4a77-8038-1032f76198d4"
      },
      "execution_count": 19,
      "outputs": [
        {
          "output_type": "stream",
          "name": "stdout",
          "text": [
            "Test Accuracy: 0.98\n"
          ]
        }
      ]
    },
    {
      "cell_type": "code",
      "source": [
        "# Plot training history\n",
        "plt.plot(history.history['accuracy'], label='Training Accuracy')\n",
        "plt.plot(history.history['val_accuracy'], label='Validation Accuracy')\n",
        "plt.title('Model Accuracy')\n",
        "plt.legend()\n",
        "plt.show()"
      ],
      "metadata": {
        "colab": {
          "base_uri": "https://localhost:8080/",
          "height": 452
        },
        "id": "3K7s7aA7oyFG",
        "outputId": "169ab278-e6f3-4f13-8e47-68ea7609dae3"
      },
      "execution_count": 20,
      "outputs": [
        {
          "output_type": "display_data",
          "data": {
            "text/plain": [
              "<Figure size 640x480 with 1 Axes>"
            ],
            "image/png": "[encoded data removed]"
          },
          "metadata": {}
        }
      ]
    },
    {
      "cell_type": "code",
      "source": [],
      "metadata": {
        "id": "5tnsml3qo2G_"
      },
      "execution_count": null,
      "outputs": []
    }
  ]
}